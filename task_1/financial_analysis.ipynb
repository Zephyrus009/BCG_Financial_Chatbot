{
 "cells": [
  {
   "cell_type": "markdown",
   "metadata": {},
   "source": [
    "Loading Libraries"
   ]
  },
  {
   "cell_type": "code",
   "execution_count": 1,
   "metadata": {},
   "outputs": [],
   "source": [
    "from pyspark.sql import SparkSession, functions as F\n",
    "from pyspark.sql.window import Window\n",
    "import pandas as pd"
   ]
  },
  {
   "cell_type": "markdown",
   "metadata": {},
   "source": [
    "Creating a spark session"
   ]
  },
  {
   "cell_type": "code",
   "execution_count": 2,
   "metadata": {},
   "outputs": [],
   "source": [
    "spark = SparkSession.builder.appName(\"financial_analysis\").getOrCreate()"
   ]
  },
  {
   "cell_type": "markdown",
   "metadata": {},
   "source": [
    "Reading the CSV file"
   ]
  },
  {
   "cell_type": "code",
   "execution_count": 3,
   "metadata": {},
   "outputs": [],
   "source": [
    "fin_data = spark.read.csv(r\"D:\\BCG_Financial_Chatbot\\task_1\\financial_data.csv\",inferSchema=True,header=True)"
   ]
  },
  {
   "cell_type": "markdown",
   "metadata": {},
   "source": [
    "Finding year by year growth for each element"
   ]
  },
  {
   "cell_type": "code",
   "execution_count": 4,
   "metadata": {},
   "outputs": [],
   "source": [
    "windowover = Window.partitionBy(\"Organization\").orderBy(\"Year\")\n",
    "fin_cols = ['Total Revenue','Net Income','Total Assets','Total Liabilities','Cash Flow from Operating Activities']\n",
    "for i in fin_cols:\n",
    "    fin_data = fin_data.withColumn(f\"{i} Growth Percentage\",F.round(((F.col(f\"{i}\") - F.lag(F.col(f\"{i}\")).over(windowover))/F.lag(F.col(f\"{i}\")).over(windowover)) * 100,4))\n",
    "\n",
    "fin_data = fin_data.fillna(0)"
   ]
  },
  {
   "cell_type": "code",
   "execution_count": 5,
   "metadata": {},
   "outputs": [
    {
     "name": "stdout",
     "output_type": "stream",
     "text": [
      "+------------+----+-------------+----------+------------+-----------------+-----------------------------------+-------------------------------+----------------------------+------------------------------+-----------------------------------+-----------------------------------------------------+\n",
      "|Organization|Year|Total Revenue|Net Income|Total Assets|Total Liabilities|Cash Flow from Operating Activities|Total Revenue Growth Percentage|Net Income Growth Percentage|Total Assets Growth Percentage|Total Liabilities Growth Percentage|Cash Flow from Operating Activities Growth Percentage|\n",
      "+------------+----+-------------+----------+------------+-----------------+-----------------------------------+-------------------------------+----------------------------+------------------------------+-----------------------------------+-----------------------------------------------------+\n",
      "|       Apple|2021|       365817|     94680|      351002|           287912|                             104038|                            0.0|                         0.0|                           0.0|                                0.0|                                                  0.0|\n",
      "|       Apple|2022|       394328|     99803|      352755|           302083|                             122151|                         7.7938|                      5.4109|                        0.4994|                              4.922|                                                17.41|\n",
      "|       Apple|2023|       383285|     96995|      352583|           290437|                             110543|                        -2.8005|                     -2.8135|                       -0.0488|                            -3.8552|                                               -9.503|\n",
      "|   Microsoft|2021|       168088|     61271|      333779|           191791|                              76740|                            0.0|                         0.0|                           0.0|                                0.0|                                                  0.0|\n",
      "|   Microsoft|2022|       198270|     72738|      364840|           198298|                              89035|                        17.9561|                     18.7152|                        9.3059|                             3.3928|                                              16.0216|\n",
      "|   Microsoft|2023|       211915|     72361|      411976|           205753|                              87582|                          6.882|                     -0.5183|                       12.9196|                             3.7595|                                              -1.6319|\n",
      "|       Tesla|2021|        53821|      5519|       62131|            30548|                              11497|                            0.0|                         0.0|                           0.0|                                0.0|                                                  0.0|\n",
      "|       Tesla|2022|        81462|     12556|       82338|            36440|                              14724|                        51.3573|                     127.505|                       32.5232|                            19.2877|                                              28.0682|\n",
      "|       Tesla|2023|        96773|     14974|      106618|            43009|                              13256|                        18.7953|                     19.2577|                       29.4882|                            18.0269|                                              -9.9701|\n",
      "+------------+----+-------------+----------+------------+-----------------+-----------------------------------+-------------------------------+----------------------------+------------------------------+-----------------------------------+-----------------------------------------------------+\n",
      "\n"
     ]
    }
   ],
   "source": [
    "fin_data.show()"
   ]
  },
  {
   "cell_type": "markdown",
   "metadata": {},
   "source": [
    "Saving the clean data for training"
   ]
  },
  {
   "cell_type": "code",
   "execution_count": null,
   "metadata": {},
   "outputs": [],
   "source": [
    "data = pd.DataFrame(columns=[\"instruction\",\"output\"])\n",
    "for i in fin_data.head(fin_data.count()):\n",
    "    for j in list(fin_data.columns[2:]):\n",
    "\n",
    "        dat = {\n",
    "            \"instruction\":f\"What is the {j} of {i['Organization']} in {i['Year']}\",\n",
    "            \"output\":f\"The {j} of {i['Organization']} in {i['Year']} is {i[f'{j}']}\"\n",
    "        }\n",
    "        dat = pd.DataFrame(dat,index=[0])\n",
    "        data = pd.concat([data,dat])\n",
    "\n",
    "data = data.reset_index(drop=True)\n",
    "data.to_csv(\"bcg_fin_train_data.csv\",index=False)"
   ]
  },
  {
   "cell_type": "markdown",
   "metadata": {},
   "source": [
    "### Year-on-Year Average Growth Rates of Apple, Microsoft and Tesla"
   ]
  },
  {
   "cell_type": "code",
   "execution_count": 12,
   "metadata": {},
   "outputs": [
    {
     "name": "stdout",
     "output_type": "stream",
     "text": [
      "+------------+---------------------------------+------------------------------+--------------------------------+-------------------------------------+-------------------------------------------------------+\n",
      "|Organization|Total Revenue Growth Percentage %|Net Income Growth Percentage %|Total Assets Growth Percentage %|Total Liabilities Growth Percentage %|Cash Flow from Operating Activities Growth Percentage %|\n",
      "+------------+---------------------------------+------------------------------+--------------------------------+-------------------------------------+-------------------------------------------------------+\n",
      "|       Apple|               1.6644333333333332|                        0.8658|                          0.1502|                   0.3555999999999999|                                      2.635666666666667|\n",
      "|   Microsoft|                8.279366666666666|             6.065633333333333|                          7.4085|                               2.3841|                                      4.796566666666666|\n",
      "|       Tesla|               23.384200000000003|            48.920899999999996|              20.670466666666666|                              12.4382|                                      6.032700000000001|\n",
      "+------------+---------------------------------+------------------------------+--------------------------------+-------------------------------------+-------------------------------------------------------+\n",
      "\n"
     ]
    }
   ],
   "source": [
    "fin_data.select(\"Organization\",\"Total Revenue Growth Percentage\",\"Net Income Growth Percentage\",\"Total Assets Growth Percentage\",\"Total Liabilities Growth Percentage\",\"Cash Flow from Operating Activities Growth Percentage\")\\\n",
    "    .groupby([\"Organization\"])\\\n",
    "    .agg(\n",
    "        F.mean(F.col(\"Total Revenue Growth Percentage\")).alias(\"Total Revenue Growth Percentage %\"),\n",
    "        F.mean(F.col(\"Net Income Growth Percentage\")).alias(\"Net Income Growth Percentage %\"),\n",
    "        F.mean(F.col(\"Total Assets Growth Percentage\")).alias(\"Total Assets Growth Percentage %\"),\n",
    "        F.mean(F.col(\"Total Liabilities Growth Percentage\")).alias(\"Total Liabilities Growth Percentage %\"),\n",
    "        F.mean(F.col(\"Cash Flow from Operating Activities Growth Percentage\")).alias(\"Cash Flow from Operating Activities Growth Percentage %\"),\n",
    "        )\\\n",
    "    .show()\n",
    "    "
   ]
  }
 ],
 "metadata": {
  "kernelspec": {
   "display_name": "venv",
   "language": "python",
   "name": "python3"
  },
  "language_info": {
   "codemirror_mode": {
    "name": "ipython",
    "version": 3
   },
   "file_extension": ".py",
   "mimetype": "text/x-python",
   "name": "python",
   "nbconvert_exporter": "python",
   "pygments_lexer": "ipython3",
   "version": "3.10.4"
  }
 },
 "nbformat": 4,
 "nbformat_minor": 2
}
